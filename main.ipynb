{
 "cells": [
  {
   "cell_type": "code",
   "execution_count": 1,
   "metadata": {},
   "outputs": [],
   "source": [
    "# Dependencies\n",
    "from bs4 import BeautifulSoup as bs\n",
    "import requests\n",
    "from splinter import Browser\n",
    "from webdriver_manager.chrome import ChromeDriverManager\n",
    "import time\n",
    "import pandas as pd\n",
    "import finnhub"
   ]
  },
  {
   "cell_type": "code",
   "execution_count": 2,
   "metadata": {},
   "outputs": [],
   "source": [
    "# Setup client\n",
    "from config import api_finn\n",
    "finnhub_client = finnhub.Client(api_key=api_finn)"
   ]
  },
  {
   "cell_type": "code",
   "execution_count": 3,
   "metadata": {},
   "outputs": [],
   "source": [
    "# Pull in Gamestop data from finnhub\n",
    "data_GME = finnhub_client.stock_candles('GME', 'D', 1599886800, 1612159200)\n",
    "\n",
    "# Convert to Pandas Dataframe\n",
    "GME_new = pd.DataFrame(data_GME)\n",
    "\n",
    "# Clean up data frame (change timestamp to Y-M-D format)\n",
    "GME_series = pd.to_datetime(GME_new.t,unit = \"s\")\n",
    "\n",
    "# Merge the data frame with the cleaned series \n",
    "GME_df = pd.merge(GME_new, GME_series, left_index = True, right_index = True)\n",
    "\n",
    "# Re-write the df with only the desired columns\n",
    "GME_update = GME_df[[\"c\",\"h\",\"l\",\"o\",\"v\",\"t_y\"]]\n",
    "\n",
    "# Give the column headings proper titles\n",
    "GME_final_df = GME_update.rename(columns={\"c\": \"Closing_price\", \"h\": \"High_price\", \"l\": \"Low_price\", \"o\": \"Opening_price\", \"v\": \"Market_volume\", \"t_y\": \"Date\"})\n",
    "GME_final_df.to_csv('GME.csv')\n"
   ]
  },
  {
   "cell_type": "code",
   "execution_count": 4,
   "metadata": {},
   "outputs": [],
   "source": [
    "# Pull in Vanguard S&P index data from finnhub\n",
    "data_VTSAX = finnhub_client.stock_candles('VTSAX', 'D', 1599886800, 1612159200)\n",
    "\n",
    "# Convert to Pandas Dataframe\n",
    "VTSAX_new = pd.DataFrame(data_VTSAX)\n",
    "\n",
    "# Clean up data frame (change timestamp to Y-M-D format)\n",
    "VTSAX_series = pd.to_datetime(VTSAX_new.t,unit = \"s\")\n",
    "VTSAX_series = pd.to_datetime(VTSAX_series.dt.date)\n",
    "\n",
    "# Merge the data frame with the cleaned series \n",
    "VTSAX_df = pd.merge(VTSAX_new, VTSAX_series, left_index = True, right_index = True)\n",
    "\n",
    "# Re-write the df with only the desired columns\n",
    "VTSAX_update = VTSAX_df[[\"c\",\"h\",\"l\",\"o\",\"v\",\"t_y\"]]\n",
    "\n",
    "# Give the column headings proper titles\n",
    "VTSAX_final_df = VTSAX_update.rename(columns={\"c\": \"Closing_price\", \"h\": \"High_price\", \"l\": \"Low_price\", \"o\": \"Opening_price\", \"v\": \"Market_volume\", \"t_y\": \"Date\"})\n",
    "VTSAX_final_df.to_csv('VTSAX.csv')"
   ]
  },
  {
   "cell_type": "code",
   "execution_count": 5,
   "metadata": {},
   "outputs": [],
   "source": [
    "# Pull in Amazon data from finnhub\n",
    "data_AMZN = finnhub_client.stock_candles('AMZN', 'D', 1599886800, 1612159200)\n",
    "\n",
    "# Convert to Pandas Dataframe\n",
    "AMZN_new = pd.DataFrame(data_AMZN)\n",
    "\n",
    "# Clean up data frame (change timestamp to Y-M-D format)\n",
    "AMZN_series = pd.to_datetime(AMZN_new.t,unit = \"s\")\n",
    "\n",
    "# Merge the data frame with the cleaned series \n",
    "AMZN_df = pd.merge(AMZN_new, AMZN_series, left_index = True, right_index = True)\n",
    "\n",
    "# Re-write the df with only the desired columns\n",
    "AMZN_update = AMZN_df[[\"c\",\"h\",\"l\",\"o\",\"v\",\"t_y\"]]\n",
    "\n",
    "# Give the column headings proper titles\n",
    "AMZN_final_df = AMZN_update.rename(columns={\"c\": \"Closing_price\", \"h\": \"High_price\", \"l\": \"Low_price\", \"o\": \"Opening_price\", \"v\": \"Market_volume\", \"t_y\": \"Date\"})\n",
    "AMZN_final_df.to_csv('AMZN.csv')"
   ]
  },
  {
   "cell_type": "code",
   "execution_count": 6,
   "metadata": {},
   "outputs": [],
   "source": [
    "# Pull in Dogecoin data from finnhub\n",
    "data_DOGE = finnhub_client.stock_candles('DOGE-USD', 'D', 1599886800, 1612159200)\n",
    "\n",
    "# Convert to Pandas Dataframe\n",
    "DOGE_new = pd.DataFrame(data_DOGE)\n",
    "\n",
    "# Clean up data frame (change timestamp to Y-M-D format)\n",
    "DOGE_series = pd.to_datetime(DOGE_new.t,unit = \"s\")\n",
    "DOGE_series = pd.to_datetime(DOGE_series.dt.date)\n",
    "\n",
    "# Merge the data frame with the cleaned series \n",
    "DOGE_df = pd.merge(DOGE_new, DOGE_series, left_index = True, right_index = True)\n",
    "\n",
    "# Re-write the df with only the desired columns\n",
    "DOGE_update = DOGE_df[[\"c\",\"h\",\"l\",\"o\",\"v\",\"t_y\"]]\n",
    "\n",
    "# Give the column headings proper titles\n",
    "DOGE_final_df = DOGE_update.rename(columns={\"c\": \"Closing_price\", \"h\": \"High_price\", \"l\": \"Low_price\", \"o\": \"Opening_price\", \"v\": \"Market_volume\", \"t_y\": \"Date\"})\n",
    "DOGE_final_df.to_csv('DOGE.csv')"
   ]
  },
  {
   "cell_type": "code",
   "execution_count": 7,
   "metadata": {},
   "outputs": [],
   "source": [
    "# Pull in AMC entertainment data from finnhub\n",
    "data_AMC = finnhub_client.stock_candles('AMC', 'D', 1599886800, 1612159200)\n",
    "\n",
    "# Convert to Pandas Dataframe\n",
    "AMC_new = pd.DataFrame(data_AMC)\n",
    "\n",
    "# Clean up data frame (change timestamp to Y-M-D format)\n",
    "AMC_series = pd.to_datetime(AMC_new.t,unit = \"s\")\n",
    "\n",
    "# Merge the data frame with the cleaned series \n",
    "AMC_df = pd.merge(AMC_new, AMC_series, left_index = True, right_index = True)\n",
    "\n",
    "# Re-write the df with only the desired columns\n",
    "AMC_update = AMC_df[[\"c\",\"h\",\"l\",\"o\",\"v\",\"t_y\"]]\n",
    "\n",
    "# Give the column headings proper titles\n",
    "AMC_final_df = AMC_update.rename(columns={\"c\": \"Closing_price\", \"h\": \"High_price\", \"l\": \"Low_price\", \"o\": \"Opening_price\", \"v\": \"Market_volume\", \"t_y\": \"Date\"})\n",
    "AMC_final_df.to_csv('AMC.csv')"
   ]
  },
  {
   "cell_type": "code",
   "execution_count": 8,
   "metadata": {},
   "outputs": [],
   "source": [
    "# Pull in Disney data from finnhub\n",
    "data_DIS = finnhub_client.stock_candles('DIS', 'D', 1599886800, 1612159200)\n",
    "\n",
    "# Convert to Pandas Dataframe\n",
    "DIS_new = pd.DataFrame(data_DIS)\n",
    "\n",
    "# Clean up data frame (change timestamp to Y-M-D format)\n",
    "DIS_series = pd.to_datetime(DIS_new.t,unit = \"s\")\n",
    "\n",
    "# Merge the data frame with the cleaned series \n",
    "DIS_df = pd.merge(DIS_new, DIS_series, left_index = True, right_index = True)\n",
    "\n",
    "# Re-write the df with only the desired columns\n",
    "DIS_update = DIS_df[[\"c\",\"h\",\"l\",\"o\",\"v\",\"t_y\"]]\n",
    "\n",
    "# Give the column headings proper titles\n",
    "DIS_final_df = DIS_update.rename(columns={\"c\": \"Closing_price\", \"h\": \"High_price\", \"l\": \"Low_price\", \"o\": \"Opening_price\", \"v\": \"Market_volume\", \"t_y\": \"Date\"})\n",
    "DIS_final_df.to_csv('DIS.csv')"
   ]
  },
  {
   "cell_type": "code",
   "execution_count": 12,
   "metadata": {},
   "outputs": [
    {
     "name": "stderr",
     "output_type": "stream",
     "text": [
      "[WDM] - ====== WebDriver manager ======\n",
      "[WDM] - Current google-chrome version is 88.0.4324\n",
      "[WDM] - Get LATEST driver version for 88.0.4324\n"
     ]
    },
    {
     "name": "stdout",
     "output_type": "stream",
     "text": [
      "\n",
      "\n"
     ]
    },
    {
     "name": "stderr",
     "output_type": "stream",
     "text": [
      "[WDM] - Driver [C:\\Users\\monic\\.wdm\\drivers\\chromedriver\\win32\\88.0.4324.96\\chromedriver.exe] found in cache\n"
     ]
    }
   ],
   "source": [
    "# Setup splinter\n",
    "executable_path = {'executable_path': ChromeDriverManager().install()}\n",
    "browser = Browser('chrome', **executable_path, headless=False)"
   ]
  },
  {
   "cell_type": "code",
   "execution_count": 13,
   "metadata": {},
   "outputs": [],
   "source": [
    "# Website URL to be scraped\n",
    "url = 'https://www.wsj.com/news/archive/years'"
   ]
  },
  {
   "cell_type": "code",
   "execution_count": 14,
   "metadata": {},
   "outputs": [],
   "source": [
    "# Open up the browser\n",
    "browser.visit(url)"
   ]
  },
  {
   "cell_type": "code",
   "execution_count": 15,
   "metadata": {},
   "outputs": [],
   "source": [
    "soup = bs(browser.html, 'html.parser')"
   ]
  },
  {
   "cell_type": "code",
   "execution_count": 16,
   "metadata": {},
   "outputs": [],
   "source": [
    "# Create an empty list to hold news headlines\n",
    "Headline_List = []"
   ]
  },
  {
   "cell_type": "code",
   "execution_count": 17,
   "metadata": {},
   "outputs": [],
   "source": [
    "# Navigate web page to pull first news headline\n",
    "Headline_0 = browser.links.find_by_href(\"/news/archive/2020/september\").click()\n",
    "Headline_0_11 = browser.links.find_by_href(\"/news/archive/2020/09/11\").click()\n",
    "WSJEx9_11 = browser.links.find_by_partial_text(\"Merck Covid-19 Vaccine\")\n",
    "Headline_List.append(WSJEx9_11.text)\n",
    "browser.back()\n",
    "browser.back()"
   ]
  },
  {
   "cell_type": "code",
   "execution_count": 18,
   "metadata": {},
   "outputs": [],
   "source": [
    "# Navigate web page to pull second news headline\n",
    "Headline_1 = browser.links.find_by_href(\"/news/archive/2020/september\").click()\n",
    "Headline_1_9_22 = browser.links.find_by_href(\"/news/archive/2020/09/22\").click()\n",
    "WSJEx9_22 = browser.links.find_by_partial_text(\"CDC Advisory Panel\")\n",
    "Headline_List.append(WSJEx9_22.text)\n",
    "browser.back()\n",
    "browser.back()"
   ]
  },
  {
   "cell_type": "code",
   "execution_count": 19,
   "metadata": {},
   "outputs": [],
   "source": [
    "# Navigate web page to pull third news headline\n",
    "Headline_2 = browser.links.find_by_href(\"/news/archive/2020/october\").click()\n",
    "Headline_2_10_8 = browser.links.find_by_href(\"/news/archive/2020/10/08\").click()\n",
    "WSJEx10_8 = browser.links.find_by_partial_text(\"Chip Company AMD\")\n",
    "Headline_List.append(WSJEx10_8.text)\n",
    "browser.back()\n",
    "browser.back()"
   ]
  },
  {
   "cell_type": "code",
   "execution_count": 20,
   "metadata": {},
   "outputs": [],
   "source": [
    "# Navigate web page to pull fourth news headline\n",
    "Headline_3 = browser.links.find_by_href(\"/news/archive/2020/november\").click()\n",
    "Headline_3_11_27 = browser.links.find_by_href(\"/news/archive/2020/11/27\").click()\n",
    "WSJEx11_27 = browser.links.find_by_partial_text(\"GM Plans\")\n",
    "Headline_List.append(WSJEx11_27.text)\n",
    "browser.back()\n",
    "browser.back()"
   ]
  },
  {
   "cell_type": "code",
   "execution_count": 21,
   "metadata": {},
   "outputs": [],
   "source": [
    "# Navigate web page to pull fifth news headline\n",
    "Headline_4 = browser.links.find_by_href(\"/news/archive/2020/december\").click()\n",
    "Headline_4_12_9 = browser.links.find_by_href(\"/news/archive/2020/12/09\").click()\n",
    "WSJEx12_9 = browser.links.find_by_partial_text(\"U.S. Supplies\")\n",
    "Headline_List.append(WSJEx12_9.text)\n",
    "browser.back()\n",
    "browser.back()"
   ]
  },
  {
   "cell_type": "code",
   "execution_count": 22,
   "metadata": {},
   "outputs": [],
   "source": [
    "# Navigate web page to pull sixth news headline\n",
    "Headline_5 = browser.links.find_by_href(\"/news/archive/2020/december\").click()\n",
    "Headline_5_12_23 = browser.links.find_by_href(\"/news/archive/2020/12/23\").click()\n",
    "WSJEx12_23 = browser.links.find_by_partial_text(\"NBA Postpones\")\n",
    "Headline_List.append(WSJEx12_23.text)\n",
    "browser.back()\n",
    "browser.back()"
   ]
  },
  {
   "cell_type": "code",
   "execution_count": 23,
   "metadata": {},
   "outputs": [],
   "source": [
    "# Navigate web page to pull seventh news headline\n",
    "Headline_6 = browser.links.find_by_href(\"/news/archive/2021/january\").click()\n",
    "Headline_6_1_4 = browser.links.find_by_href(\"/news/archive/2021/01/04\").click()\n",
    "WSJEx1_4= browser.links.find_by_partial_text(\"Sarah Jessica Parker\")\n",
    "Headline_List.append(WSJEx1_4.text)\n",
    "browser.back()\n",
    "browser.back()"
   ]
  },
  {
   "cell_type": "code",
   "execution_count": 24,
   "metadata": {},
   "outputs": [],
   "source": [
    "# Navigate web page to pull eighth news headline\n",
    "Headline_7 = browser.links.find_by_href(\"/news/archive/2021/january\").click()\n",
    "Headline_7_1_14 = browser.links.find_by_href(\"/news/archive/2021/01/14\").click()\n",
    "WSJEx1_14= browser.links.find_by_partial_text(\"Trump Orders Military\")\n",
    "Headline_List.append(WSJEx1_14.text)\n",
    "browser.back()\n",
    "browser.back()"
   ]
  },
  {
   "cell_type": "code",
   "execution_count": 25,
   "metadata": {},
   "outputs": [],
   "source": [
    "# Navigate web page to pull ninth news headline\n",
    "Headline_8 = browser.links.find_by_href(\"/news/archive/2021/january\").click()\n",
    "Headline_8_1_25 = browser.links.find_by_href(\"/news/archive/2021/01/25\").click()\n",
    "WSJEx1_25= browser.links.find_by_partial_text(\"Citadel\")\n",
    "Headline_List.append(WSJEx1_25.text)\n",
    "browser.back()\n",
    "browser.back()"
   ]
  },
  {
   "cell_type": "code",
   "execution_count": 26,
   "metadata": {},
   "outputs": [],
   "source": [
    "# Navigate web page to pull tenth news headline\n",
    "Headline_9 = browser.links.find_by_href(\"/news/archive/2021/january\").click()\n",
    "Headline_9_1_27 = browser.links.find_by_href(\"/news/archive/2021/01/27\").click()\n",
    "WSJEx1_27= browser.links.find_by_partial_text(\"Biden Re-Examining\")\n",
    "Headline_List.append(WSJEx1_27.text)\n",
    "browser.back()\n",
    "browser.back()"
   ]
  },
  {
   "cell_type": "code",
   "execution_count": 27,
   "metadata": {},
   "outputs": [],
   "source": [
    "# Navigate web page to pull eleventh news headline\n",
    "Headline_10 = browser.links.find_by_href(\"/news/archive/2021/january\").click()\n",
    "Headline_10_1_28 = browser.links.find_by_href(\"/news/archive/2021/01/28\").click()\n",
    "WSJEx1_28= browser.links.find_by_partial_text(\"The Reddit\")\n",
    "Headline_List.append(WSJEx1_28.text)\n",
    "browser.back()\n",
    "browser.back()"
   ]
  },
  {
   "cell_type": "code",
   "execution_count": 28,
   "metadata": {},
   "outputs": [],
   "source": [
    "# Navigate web page to pull twelfth news headline\n",
    "Headline_11 = browser.links.find_by_href(\"/news/archive/2021/january\").click()\n",
    "Headline_11_1_29 = browser.links.find_by_href(\"/news/archive/2021/01/29\").click()\n",
    "WSJEx1_29= browser.links.find_by_partial_text(\"Robinhood, Facing Ire\")\n",
    "Headline_List.append(WSJEx1_29.text)\n",
    "browser.back()\n",
    "browser.back()"
   ]
  },
  {
   "cell_type": "code",
   "execution_count": 29,
   "metadata": {},
   "outputs": [],
   "source": [
    "# Navigate web page to pull thirteenth news headline\n",
    "Headline_12 = browser.links.find_by_href(\"/news/archive/2021/february\").click()\n",
    "Headline_12_2_2 = browser.links.find_by_href(\"/news/archive/2021/02/02\").click()\n",
    "WSJEx2_2= browser.links.find_by_partial_text(\"Hackers Lurked\")\n",
    "Headline_List.append(WSJEx2_2.text)\n",
    "browser.back()\n",
    "browser.back()"
   ]
  },
  {
   "cell_type": "code",
   "execution_count": 30,
   "metadata": {},
   "outputs": [],
   "source": [
    "# Navigate web page to pull fourteenth news headline\n",
    "Headline_13 = browser.links.find_by_href(\"/news/archive/2021/february\").click()\n",
    "Headline_13_2_4 = browser.links.find_by_href(\"/news/archive/2021/02/04\").click()\n",
    "WSJEx2_4 = browser.links.find_by_partial_text(\"Rolling Stone\")\n",
    "Headline_List.append(WSJEx2_4.text)\n",
    "browser.back()\n",
    "browser.back()"
   ]
  },
  {
   "cell_type": "code",
   "execution_count": 31,
   "metadata": {},
   "outputs": [],
   "source": [
    "# Navigate web page to pull last news headline\n",
    "Headline_14 = browser.links.find_by_href(\"/news/archive/2021/february\").click()\n",
    "Headline_14_2_5 = browser.links.find_by_href(\"/news/archive/2021/02/05\").click()\n",
    "WSJEx2_5= browser.links.find_by_partial_text(\"The Long and Short\")\n",
    "Headline_List.append(WSJEx2_5.text)"
   ]
  },
  {
   "cell_type": "code",
   "execution_count": 32,
   "metadata": {},
   "outputs": [],
   "source": [
    "# Close the browser session when done with web scraping\n",
    "browser.quit()"
   ]
  },
  {
   "cell_type": "code",
   "execution_count": 33,
   "metadata": {},
   "outputs": [
    {
     "data": {
      "text/plain": [
       "['Merck Covid-19 Vaccine Begins Human Testing',\n",
       " 'CDC Advisory Panel to Delay Vote on Initial Vaccine Rollout',\n",
       " 'Chip Company AMD Pursues Xilinx for $30 Billion Tie-Up',\n",
       " 'GM Plans to Seek Banking Charter',\n",
       " 'U.S. Supplies of Covid-19 PPE Fall Short of Targets',\n",
       " 'NBA Postpones First Game on Second Day of New Season',\n",
       " 'Sarah Jessica Parker and Matthew Broderick Fetch $15 Million for New York Townhouse',\n",
       " 'Trump Orders Military Shift to Spur Israeli-Arab Cooperation Against Iran',\n",
       " 'Citadel, Point72 to Invest $2.75 Billion Into Melvin Capital Management',\n",
       " 'Biden Re-Examining U.S. Arms Sales to Saudi Arabia, U.A.E.',\n",
       " 'The Reddit Wolves of Wall Street',\n",
       " 'Robinhood, Facing Ire on Many Fronts, Defends Its App to Regulators',\n",
       " 'Hackers Lurked in SolarWinds Email System for at Least 9 Months',\n",
       " 'Rolling Stone Launches Video Channel on Amazon’s Twitch',\n",
       " 'The Long and Short of the GameStop Bubble']"
      ]
     },
     "execution_count": 33,
     "metadata": {},
     "output_type": "execute_result"
    }
   ],
   "source": [
    "# View the list of headlines\n",
    "Headline_List"
   ]
  },
  {
   "cell_type": "code",
   "execution_count": null,
   "metadata": {},
   "outputs": [],
   "source": []
  }
 ],
 "metadata": {
  "kernelspec": {
   "display_name": "Python 3",
   "language": "python",
   "name": "python3"
  },
  "language_info": {
   "codemirror_mode": {
    "name": "ipython",
    "version": 3
   },
   "file_extension": ".py",
   "mimetype": "text/x-python",
   "name": "python",
   "nbconvert_exporter": "python",
   "pygments_lexer": "ipython3",
   "version": "3.8.3"
  }
 },
 "nbformat": 4,
 "nbformat_minor": 4
}
