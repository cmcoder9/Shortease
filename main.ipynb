{
 "cells": [
  {
   "cell_type": "code",
   "execution_count": 1,
   "metadata": {},
   "outputs": [],
   "source": [
    "# Dependencies\n",
    "from bs4 import BeautifulSoup as bs\n",
    "import requests\n",
    "from splinter import Browser\n",
    "from webdriver_manager.chrome import ChromeDriverManager\n",
    "import time\n",
    "import pandas as pd\n",
    "import finnhub"
   ]
  },
  {
   "cell_type": "code",
   "execution_count": 2,
   "metadata": {},
   "outputs": [
    {
     "name": "stderr",
     "output_type": "stream",
     "text": [
      "[WDM] - Current google-chrome version is 88.0.4324\n",
      "[WDM] - Get LATEST driver version for 88.0.4324\n",
      "[WDM] - Driver [/Users/krishna/.wdm/drivers/chromedriver/mac64/88.0.4324.96/chromedriver] found in cache\n"
     ]
    },
    {
     "name": "stdout",
     "output_type": "stream",
     "text": [
      " \n"
     ]
    }
   ],
   "source": [
    "# Setup splinter\n",
    "executable_path = {'executable_path': ChromeDriverManager().install()}\n",
    "browser = Browser('chrome', **executable_path, headless=False)"
   ]
  },
  {
   "cell_type": "code",
   "execution_count": null,
   "metadata": {},
   "outputs": [],
   "source": [
    "url = 'https://www.wsj.com/news/archive/years'"
   ]
  },
  {
   "cell_type": "code",
   "execution_count": null,
   "metadata": {},
   "outputs": [],
   "source": []
  },
  {
   "cell_type": "code",
   "execution_count": null,
   "metadata": {},
   "outputs": [],
   "source": []
  },
  {
   "cell_type": "code",
   "execution_count": null,
   "metadata": {},
   "outputs": [],
   "source": []
  },
  {
   "cell_type": "code",
   "execution_count": 4,
   "metadata": {},
   "outputs": [],
   "source": [
    "# Setup client\n",
    "from config import api_finn\n",
    "finnhub_client = finnhub.Client(api_key=api_finn)"
   ]
  },
  {
   "cell_type": "code",
   "execution_count": 5,
   "metadata": {},
   "outputs": [
    {
     "name": "stdout",
     "output_type": "stream",
     "text": [
      "{'c': [321.85, 323.34, 325.12, 322.32, 331.5, 333.46, 343.99, 352.84, 335.9], 'h': [322.35, 323.44, 326.2, 325.62, 331.75, 333.6, 345.61, 354.77, 351.06], 'l': [317.21, 318.93, 322.3, 320.78, 323.23, 327.32, 332.01, 346.09, 335.48], 'o': [317.75, 320.745, 324.66, 324.39, 323.35, 330.25, 332.14, 347.9, 349.31], 's': 'ok', 't': [1590969600, 1591056000, 1591142400, 1591228800, 1591315200, 1591574400, 1591660800, 1591747200, 1591833600], 'v': [20254653, 21910704, 26122804, 21890091, 34312550, 23913634, 36928091, 41662938, 50415613]}\n"
     ]
    }
   ],
   "source": [
    "# Stock candles\n",
    "res = finnhub_client.stock_candles('AAPL', 'D', 1590988249, 1591852249)\n",
    "print(res)"
   ]
  },
  {
   "cell_type": "code",
   "execution_count": 6,
   "metadata": {},
   "outputs": [
    {
     "data": {
      "text/html": [
       "<div>\n",
       "<style scoped>\n",
       "    .dataframe tbody tr th:only-of-type {\n",
       "        vertical-align: middle;\n",
       "    }\n",
       "\n",
       "    .dataframe tbody tr th {\n",
       "        vertical-align: top;\n",
       "    }\n",
       "\n",
       "    .dataframe thead th {\n",
       "        text-align: right;\n",
       "    }\n",
       "</style>\n",
       "<table border=\"1\" class=\"dataframe\">\n",
       "  <thead>\n",
       "    <tr style=\"text-align: right;\">\n",
       "      <th></th>\n",
       "      <th>c</th>\n",
       "      <th>h</th>\n",
       "      <th>l</th>\n",
       "      <th>o</th>\n",
       "      <th>s</th>\n",
       "      <th>t</th>\n",
       "      <th>v</th>\n",
       "    </tr>\n",
       "  </thead>\n",
       "  <tbody>\n",
       "    <tr>\n",
       "      <th>0</th>\n",
       "      <td>321.85</td>\n",
       "      <td>322.35</td>\n",
       "      <td>317.21</td>\n",
       "      <td>317.750</td>\n",
       "      <td>ok</td>\n",
       "      <td>1590969600</td>\n",
       "      <td>20254653</td>\n",
       "    </tr>\n",
       "    <tr>\n",
       "      <th>1</th>\n",
       "      <td>323.34</td>\n",
       "      <td>323.44</td>\n",
       "      <td>318.93</td>\n",
       "      <td>320.745</td>\n",
       "      <td>ok</td>\n",
       "      <td>1591056000</td>\n",
       "      <td>21910704</td>\n",
       "    </tr>\n",
       "    <tr>\n",
       "      <th>2</th>\n",
       "      <td>325.12</td>\n",
       "      <td>326.20</td>\n",
       "      <td>322.30</td>\n",
       "      <td>324.660</td>\n",
       "      <td>ok</td>\n",
       "      <td>1591142400</td>\n",
       "      <td>26122804</td>\n",
       "    </tr>\n",
       "    <tr>\n",
       "      <th>3</th>\n",
       "      <td>322.32</td>\n",
       "      <td>325.62</td>\n",
       "      <td>320.78</td>\n",
       "      <td>324.390</td>\n",
       "      <td>ok</td>\n",
       "      <td>1591228800</td>\n",
       "      <td>21890091</td>\n",
       "    </tr>\n",
       "    <tr>\n",
       "      <th>4</th>\n",
       "      <td>331.50</td>\n",
       "      <td>331.75</td>\n",
       "      <td>323.23</td>\n",
       "      <td>323.350</td>\n",
       "      <td>ok</td>\n",
       "      <td>1591315200</td>\n",
       "      <td>34312550</td>\n",
       "    </tr>\n",
       "    <tr>\n",
       "      <th>5</th>\n",
       "      <td>333.46</td>\n",
       "      <td>333.60</td>\n",
       "      <td>327.32</td>\n",
       "      <td>330.250</td>\n",
       "      <td>ok</td>\n",
       "      <td>1591574400</td>\n",
       "      <td>23913634</td>\n",
       "    </tr>\n",
       "    <tr>\n",
       "      <th>6</th>\n",
       "      <td>343.99</td>\n",
       "      <td>345.61</td>\n",
       "      <td>332.01</td>\n",
       "      <td>332.140</td>\n",
       "      <td>ok</td>\n",
       "      <td>1591660800</td>\n",
       "      <td>36928091</td>\n",
       "    </tr>\n",
       "    <tr>\n",
       "      <th>7</th>\n",
       "      <td>352.84</td>\n",
       "      <td>354.77</td>\n",
       "      <td>346.09</td>\n",
       "      <td>347.900</td>\n",
       "      <td>ok</td>\n",
       "      <td>1591747200</td>\n",
       "      <td>41662938</td>\n",
       "    </tr>\n",
       "    <tr>\n",
       "      <th>8</th>\n",
       "      <td>335.90</td>\n",
       "      <td>351.06</td>\n",
       "      <td>335.48</td>\n",
       "      <td>349.310</td>\n",
       "      <td>ok</td>\n",
       "      <td>1591833600</td>\n",
       "      <td>50415613</td>\n",
       "    </tr>\n",
       "  </tbody>\n",
       "</table>\n",
       "</div>"
      ],
      "text/plain": [
       "        c       h       l        o   s           t         v\n",
       "0  321.85  322.35  317.21  317.750  ok  1590969600  20254653\n",
       "1  323.34  323.44  318.93  320.745  ok  1591056000  21910704\n",
       "2  325.12  326.20  322.30  324.660  ok  1591142400  26122804\n",
       "3  322.32  325.62  320.78  324.390  ok  1591228800  21890091\n",
       "4  331.50  331.75  323.23  323.350  ok  1591315200  34312550\n",
       "5  333.46  333.60  327.32  330.250  ok  1591574400  23913634\n",
       "6  343.99  345.61  332.01  332.140  ok  1591660800  36928091\n",
       "7  352.84  354.77  346.09  347.900  ok  1591747200  41662938\n",
       "8  335.90  351.06  335.48  349.310  ok  1591833600  50415613"
      ]
     },
     "execution_count": 6,
     "metadata": {},
     "output_type": "execute_result"
    }
   ],
   "source": [
    "#Convert to Pandas Dataframe\n",
    "pd.DataFrame(res)"
   ]
  },
  {
   "cell_type": "code",
   "execution_count": null,
   "metadata": {},
   "outputs": [],
   "source": []
  }
 ],
 "metadata": {
  "kernelspec": {
   "display_name": "Python 3",
   "language": "python",
   "name": "python3"
  },
  "language_info": {
   "codemirror_mode": {
    "name": "ipython",
    "version": 3
   },
   "file_extension": ".py",
   "mimetype": "text/x-python",
   "name": "python",
   "nbconvert_exporter": "python",
   "pygments_lexer": "ipython3",
   "version": "3.8.5"
  }
 },
 "nbformat": 4,
 "nbformat_minor": 4
}
